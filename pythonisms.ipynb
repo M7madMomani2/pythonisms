{
 "metadata": {
  "language_info": {
   "codemirror_mode": {
    "name": "ipython",
    "version": 3
   },
   "file_extension": ".py",
   "mimetype": "text/x-python",
   "name": "python",
   "nbconvert_exporter": "python",
   "pygments_lexer": "ipython3",
   "version": "3.8.5"
  },
  "orig_nbformat": 2,
  "kernelspec": {
   "name": "python3",
   "display_name": "Python 3.8.5 64-bit ('.venv': poetry)"
  },
  "metadata": {
   "interpreter": {
    "hash": "4f886bde10560a36d95c8c431d5fa81656806570d6cf9ec22531fbd092e6f0ea"
   }
  },
  "interpreter": {
   "hash": "7547802392d46a4a2ac7eeac1630438bdc1704f809421c38471648232df4873b"
  }
 },
 "nbformat": 4,
 "nbformat_minor": 2,
 "cells": [
  {
   "cell_type": "code",
   "execution_count": 6,
   "metadata": {},
   "outputs": [],
   "source": [
    "import functools\r\n",
    "import time\r\n",
    "\r\n",
    "\r\n"
   ]
  },
  {
   "cell_type": "code",
   "execution_count": 7,
   "metadata": {},
   "outputs": [],
   "source": [
    "class Node:\n",
    "    def __init__(self, value, next_ = None):\n",
    "        self.value = value\n",
    "        self.next = next_\n"
   ]
  },
  {
   "cell_type": "code",
   "execution_count": 8,
   "metadata": {},
   "outputs": [
    {
     "output_type": "stream",
     "name": "stdout",
     "text": [
      "[1, 2, 4, 5, 10, 20, 25, 50, 100]\n",
      "1\n",
      "2\n",
      "4\n",
      "5\n",
      "10\n",
      "20\n",
      "25\n",
      "50\n",
      "100\n"
     ]
    }
   ],
   "source": [
    "class LinkedList:\r\n",
    "\r\n",
    "    def __init__(self, collection=None):\r\n",
    "        self.head = None\r\n",
    "\r\n",
    "        if collection:\r\n",
    "            for item in reversed(collection):\r\n",
    "                self.insert(item) \r\n",
    "\r\n",
    "    def __iter__(self):\r\n",
    "        def values_generator():\r\n",
    "            current = self.head\r\n",
    "            while current:\r\n",
    "                yield current.value\r\n",
    "                current = current.next\r\n",
    "        return values_generator()\r\n",
    "\r\n",
    "    def __str__(self):\r\n",
    "        out = \"\"\r\n",
    "        for value in self:\r\n",
    "            out += f\"[ {value} ] -> \"\r\n",
    "        return out + \"None\"\r\n",
    "\r\n",
    "    def __len__(self):\r\n",
    "        return len(list(iter(self)))\r\n",
    "\r\n",
    "    def __eq__(self, other):\r\n",
    "        return list(iter(self)) == list(iter(other))\r\n",
    "\r\n",
    "    def __getitem__(self, index):\r\n",
    "        if index < 0:\r\n",
    "            index = len(self) + index\r\n",
    "\r\n",
    "        for i, item in enumerate(self):\r\n",
    "            if i == index:\r\n",
    "                return item\r\n",
    "        raise IndexError\r\n",
    "\r\n",
    "    def insert(self, value):\r\n",
    "        self.head = Node(value, self.head)\r\n",
    "\r\n",
    "    def append(self, value):\r\n",
    "\r\n",
    "        node = Node(value)\r\n",
    "\r\n",
    "        if not self.head:\r\n",
    "            self.head = node\r\n",
    "            return\r\n",
    "\r\n",
    "        current = self.head\r\n",
    "\r\n",
    "        while current.next:\r\n",
    "            current = current.next\r\n",
    "\r\n",
    "        current.next = node\r\n",
    "\r\n",
    "def slow_down(func):\r\n",
    "    @functools.wraps(func)\r\n",
    "    def wrapper_slow_down(*args, **kwargs):\r\n",
    "        time.sleep(1)\r\n",
    "        return func(*args, **kwargs)\r\n",
    "    return wrapper_slow_down\r\n",
    "\r\n",
    "@slow_down\r\n",
    "def factors1(n):\r\n",
    "    results = [ ]\r\n",
    "    for k in range(1,n+1):\r\n",
    "        if n % k == 0: results.append(k)\r\n",
    "    return results\r\n",
    "\r\n",
    "@slow_down\r\n",
    "def factors2(n):\r\n",
    "    for k in range(1,n+1):\r\n",
    "        if n % k == 0: \r\n",
    "            yield k\r\n",
    "print(factors1(100))\r\n",
    "\r\n",
    "for factor in factors2(100):\r\n",
    "    print(factor)\r\n"
   ]
  }
 ]
}